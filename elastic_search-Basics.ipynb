{
 "cells": [
  {
   "cell_type": "code",
   "execution_count": 1,
   "id": "c6fb39ac",
   "metadata": {},
   "outputs": [],
   "source": [
    "from elasticsearch import Elasticsearch"
   ]
  },
  {
   "cell_type": "code",
   "execution_count": 64,
   "id": "7e2e16f7",
   "metadata": {},
   "outputs": [
    {
     "name": "stdout",
     "output_type": "stream",
     "text": [
      "##############################\n",
      "Connected to Elasticsearch\n",
      "##############################\n"
     ]
    }
   ],
   "source": [
    "username = 'elastic'\n",
    "password = '1234'\n",
    "host = 'http://localhost:9200'  # e.g., 'localhost' or 'https://your-elasticsearch-domain.com'\n",
    "\n",
    "# Create an Elasticsearch client instance\n",
    "es = Elasticsearch(\n",
    "    hosts=host,\n",
    "    basic_auth=(username, password),\n",
    "    verify_certs = False\n",
    ")\n",
    "\n",
    "# Check if the connection was successful\n",
    "if es.ping():\n",
    "    print('#'*30)\n",
    "    print(\"Connected to Elasticsearch\")\n",
    "    print('#'*30)\n",
    "else:\n",
    "    print(\"Connection failed\")\n",
    "\n",
    "# es.info()"
   ]
  },
  {
   "cell_type": "code",
   "execution_count": 90,
   "id": "b5970b00",
   "metadata": {},
   "outputs": [
    {
     "data": {
      "text/plain": [
       "ObjectApiResponse({'my_index1': {'aliases': {}}, 'saleem_testing1': {'aliases': {}}})"
      ]
     },
     "execution_count": 90,
     "metadata": {},
     "output_type": "execute_result"
    }
   ],
   "source": [
    "es.indices.get_alias(index='*')"
   ]
  },
  {
   "cell_type": "code",
   "execution_count": 401,
   "id": "d679ff91",
   "metadata": {},
   "outputs": [
    {
     "name": "stderr",
     "output_type": "stream",
     "text": [
      "C:\\Users\\Desktop\\AppData\\Local\\Temp\\ipykernel_7100\\2138679459.py:80: DeprecationWarning: The 'body' parameter is deprecated and will be removed in a future version. Instead use individual parameters.\n",
      "  es.indices.create(index=index_name, body={'settings': settings, 'mappings': mapping})\n",
      "C:\\Users\\Desktop\\AppData\\Local\\Temp\\ipykernel_7100\\2138679459.py:125: DeprecationWarning: The 'body' parameter is deprecated and will be removed in a future version. Instead use the 'document' parameter. See https://github.com/elastic/elasticsearch-py/issues/1698 for more information\n",
      "  es.index(index=index_name, body=body)\n"
     ]
    }
   ],
   "source": [
    "# Index name\n",
    "index_name = 'my_index1'\n",
    "\n",
    "try:\n",
    "    es.indices.delete(index='my_index1')\n",
    "except:\n",
    "    print('new')\n",
    "\n",
    "# Mapping and settings\n",
    "mapping = {\n",
    "    'dynamic': 'true',\n",
    "    'properties': {\n",
    "        'data': {\n",
    "            'type': 'nested',\n",
    "            'properties': {\n",
    "                'label': {'type': 'keyword'},\n",
    "                'value': {\n",
    "                    'type': 'keyword',\n",
    "                    'fields': {\n",
    "                        'phonetic': {\n",
    "                            'type': 'text',\n",
    "                            'analyzer': 'my_phonetic_analyzer'\n",
    "                        },\n",
    "                        'synonym': {\n",
    "                            'type': 'text',\n",
    "                            'analyzer': 'my_synonym_analyzer'\n",
    "                        }\n",
    "                    }\n",
    "                }\n",
    "            }\n",
    "        },\n",
    "        'source': {'type': 'keyword'},\n",
    "        'country': {\n",
    "            'type': 'text',\n",
    "            'fields': {\n",
    "                'keyword': {\n",
    "                    'type': 'keyword',\n",
    "                    'ignore_above': 256\n",
    "                }\n",
    "            }\n",
    "        }\n",
    "    }\n",
    "}\n",
    "\n",
    "settings = {\n",
    "    'index': {\n",
    "        'number_of_shards': 1,\n",
    "        'number_of_replicas': 0,\n",
    "        'analysis': {\n",
    "            'analyzer': {\n",
    "                'my_phonetic_analyzer': {\n",
    "                    'tokenizer': 'standard',\n",
    "                    'filter': ['lowercase', 'my_phonetic_filter']\n",
    "                },\n",
    "                'my_synonym_analyzer': {\n",
    "                    'tokenizer': 'standard',\n",
    "                    'filter': ['lowercase', 'my_synonym_filter']\n",
    "                },\n",
    "                'my_keyword_analyzer': {\n",
    "                    'tokenizer': 'keyword',\n",
    "                    'filter': ['lowercase']\n",
    "                }\n",
    "            },\n",
    "            'filter': {\n",
    "                'my_phonetic_filter': {\n",
    "                    'type': 'phonetic',\n",
    "                    'encoder': 'metaphone',\n",
    "                    'replace': False\n",
    "                },\n",
    "                'my_synonym_filter': {\n",
    "                    'type': 'synonym',\n",
    "                    'synonyms': ['saleem => salim']\n",
    "                }\n",
    "            }\n",
    "        }\n",
    "    }\n",
    "}\n",
    "\n",
    "# Create index with mapping and settings\n",
    "es.indices.create(index=index_name, body={'settings': settings, 'mappings': mapping})\n",
    "\n",
    "# Example documents\n",
    "documents = [\n",
    "    [\n",
    "        {'label': 'name', 'value': 'saleem'},\n",
    "        {'label': 'country', 'value': 'pakistan'},\n",
    "        {'label': 'date of birth', 'value': '16-02-1995', 'source': 'https://www.wikipedia.org/'},\n",
    "        {'label': 'date of birth', 'value': '1997'},\n",
    "        {'label': 'category', 'value': 'student'}\n",
    "    ],\n",
    "    [\n",
    "        {'label': 'name', 'value': 'salim'},\n",
    "        {'label': 'country', 'value': 'uae'},\n",
    "        {'label': 'date of birth', 'value': '1991'},\n",
    "        {'label': 'category', 'value': 'student'},\n",
    "        {'label': 'category', 'value': '{id:300000111222}'}\n",
    "    ],\n",
    "    [\n",
    "        {'label': 'name', 'value': 'saleem'},\n",
    "        {'label': 'country', 'value': 'US'},\n",
    "        {'label': 'date of birth', 'value': '16-02-1991', 'source': 'https://www.wikipedia.org/'},\n",
    "        {'label': 'date of birth', 'value': '1996'},\n",
    "        {'label': 'category', 'value': 'engineer'}\n",
    "    ],\n",
    "    [\n",
    "        {'label': 'name', 'value': 'john'},\n",
    "        {'label': 'age', 'value': '30'},\n",
    "        {'label': 'occupation', 'value': 'engineer'}\n",
    "    ]\n",
    "]\n",
    "\n",
    "# Index the documents\n",
    "for doc in documents:\n",
    "    body = {'data': [], 'source': ''}\n",
    "    for item in doc:\n",
    "        data_item = {\n",
    "            'label': item['label'],\n",
    "            'value': item['value']\n",
    "        }\n",
    "        body['data'].append(data_item)\n",
    "        if 'source' in item:\n",
    "            body['source'] = item['source']\n",
    "        if item['label'] == 'country':\n",
    "            body['country'] = item['value']\n",
    "    es.index(index=index_name, body=body)\n",
    "\n",
    "\n",
    "def search_records(name, keyword=None, country=None):\n",
    "    query = {\n",
    "        'query': {\n",
    "            'bool': {\n",
    "                'must': [\n",
    "                    {\n",
    "                        'nested': {\n",
    "                            'path': 'data',\n",
    "                            'query': {\n",
    "                                'bool': {\n",
    "                                    'must': [\n",
    "                                        {\n",
    "                                            'match': {\n",
    "                                                'data.label': {\n",
    "                                                    'query': 'name',\n",
    "                                                    'analyzer': 'my_synonym_analyzer'\n",
    "                                                }\n",
    "                                            }\n",
    "                                        },\n",
    "                                        {\n",
    "                                            'match': {\n",
    "                                                'data.value.synonym': {\n",
    "                                                    'query': name,\n",
    "                                                    'fuzziness': 'AUTO'\n",
    "                                                }\n",
    "                                            }\n",
    "                                        }\n",
    "                                    ]\n",
    "                                }\n",
    "                            }\n",
    "                        }\n",
    "                    }\n",
    "                ]\n",
    "            }\n",
    "        }\n",
    "    }\n",
    "\n",
    "    if keyword:\n",
    "        query['query']['bool']['must'].append({\n",
    "            'nested': {\n",
    "                'path': 'data',\n",
    "                'query': {\n",
    "                    'wildcard': {\n",
    "                        'data.value': {\n",
    "                            'value': '*' + keyword + '*',\n",
    "                            'case_insensitive': True\n",
    "                        }\n",
    "                    }\n",
    "                }\n",
    "            }\n",
    "        })\n",
    "\n",
    "    if country:\n",
    "        query['query']['bool']['must'].append({\n",
    "            'match': {\n",
    "                'country': {\n",
    "                    'query': country,\n",
    "                    'fuzziness': 'AUTO',\n",
    "                    'analyzer': 'my_keyword_analyzer'\n",
    "                }\n",
    "            }\n",
    "        })\n",
    "            \n",
    "\n",
    "    search_results = es.search(index=index_name, body=query)\n",
    "    for hit in search_results['hits']['hits']:\n",
    "        print(hit['_source'])\n",
    "\n",
    "\n"
   ]
  },
  {
   "cell_type": "code",
   "execution_count": 403,
   "id": "3d1ef4d4",
   "metadata": {},
   "outputs": [
    {
     "name": "stdout",
     "output_type": "stream",
     "text": [
      "{'data': [{'label': 'name', 'value': 'saleem'}, {'label': 'country', 'value': 'pakistan'}, {'label': 'date of birth', 'value': '16-02-1995'}, {'label': 'date of birth', 'value': '1997'}, {'label': 'category', 'value': 'student'}], 'source': 'https://www.wikipedia.org/', 'country': 'pakistan'}\n",
      "{'data': [{'label': 'name', 'value': 'salim'}, {'label': 'country', 'value': 'uae'}, {'label': 'date of birth', 'value': '1991'}, {'label': 'category', 'value': 'student'}, {'label': 'category', 'value': '{id:300000111222}'}], 'source': '', 'country': 'uae'}\n",
      "{'data': [{'label': 'name', 'value': 'saleem'}, {'label': 'country', 'value': 'US'}, {'label': 'date of birth', 'value': '16-02-1991'}, {'label': 'date of birth', 'value': '1996'}, {'label': 'category', 'value': 'engineer'}], 'source': 'https://www.wikipedia.org/', 'country': 'US'}\n"
     ]
    },
    {
     "name": "stderr",
     "output_type": "stream",
     "text": [
      "C:\\Users\\Desktop\\AppData\\Local\\Temp\\ipykernel_7100\\2138679459.py:192: DeprecationWarning: The 'body' parameter is deprecated and will be removed in a future version. Instead use individual parameters.\n",
      "  search_results = es.search(index=index_name, body=query)\n"
     ]
    }
   ],
   "source": [
    "search_records(name='saleem',keyword='',country='')"
   ]
  },
  {
   "cell_type": "code",
   "execution_count": 404,
   "id": "58e7ff19",
   "metadata": {},
   "outputs": [
    {
     "name": "stdout",
     "output_type": "stream",
     "text": [
      "{'data': [{'label': 'name', 'value': 'saleem'}, {'label': 'country', 'value': 'pakistan'}, {'label': 'date of birth', 'value': '16-02-1995'}, {'label': 'date of birth', 'value': '1997'}, {'label': 'category', 'value': 'student'}], 'source': 'https://www.wikipedia.org/', 'country': 'pakistan'}\n",
      "{'data': [{'label': 'name', 'value': 'salim'}, {'label': 'country', 'value': 'uae'}, {'label': 'date of birth', 'value': '1991'}, {'label': 'category', 'value': 'student'}, {'label': 'category', 'value': '{id:300000111222}'}], 'source': '', 'country': 'uae'}\n"
     ]
    },
    {
     "name": "stderr",
     "output_type": "stream",
     "text": [
      "C:\\Users\\Desktop\\AppData\\Local\\Temp\\ipykernel_7100\\2138679459.py:192: DeprecationWarning: The 'body' parameter is deprecated and will be removed in a future version. Instead use individual parameters.\n",
      "  search_results = es.search(index=index_name, body=query)\n"
     ]
    }
   ],
   "source": [
    "search_records(name='saleem',keyword='student',country='')"
   ]
  },
  {
   "cell_type": "code",
   "execution_count": 407,
   "id": "ee3d7946",
   "metadata": {},
   "outputs": [
    {
     "name": "stdout",
     "output_type": "stream",
     "text": [
      "{'data': [{'label': 'name', 'value': 'saleem'}, {'label': 'country', 'value': 'pakistan'}, {'label': 'date of birth', 'value': '16-02-1995'}, {'label': 'date of birth', 'value': '1997'}, {'label': 'category', 'value': 'student'}], 'source': 'https://www.wikipedia.org/', 'country': 'pakistan'}\n"
     ]
    },
    {
     "name": "stderr",
     "output_type": "stream",
     "text": [
      "C:\\Users\\Desktop\\AppData\\Local\\Temp\\ipykernel_7100\\2138679459.py:192: DeprecationWarning: The 'body' parameter is deprecated and will be removed in a future version. Instead use individual parameters.\n",
      "  search_results = es.search(index=index_name, body=query)\n"
     ]
    }
   ],
   "source": [
    "search_records(name='saleem',keyword='student',country='pakistan')"
   ]
  },
  {
   "cell_type": "code",
   "execution_count": null,
   "id": "9391086f",
   "metadata": {},
   "outputs": [],
   "source": []
  }
 ],
 "metadata": {
  "kernelspec": {
   "display_name": "env_dlib",
   "language": "python",
   "name": "env_dlib"
  },
  "language_info": {
   "codemirror_mode": {
    "name": "ipython",
    "version": 3
   },
   "file_extension": ".py",
   "mimetype": "text/x-python",
   "name": "python",
   "nbconvert_exporter": "python",
   "pygments_lexer": "ipython3",
   "version": "3.10.8"
  }
 },
 "nbformat": 4,
 "nbformat_minor": 5
}
