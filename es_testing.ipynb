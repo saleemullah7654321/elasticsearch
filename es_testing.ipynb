{
 "cells": [
  {
   "cell_type": "code",
   "execution_count": 340,
   "metadata": {},
   "outputs": [],
   "source": [
    "from elasticsearch import Elasticsearch"
   ]
  },
  {
   "cell_type": "code",
   "execution_count": 341,
   "metadata": {},
   "outputs": [
    {
     "name": "stdout",
     "output_type": "stream",
     "text": [
      "##############################\n",
      "Connected to Elasticsearch\n",
      "##############################\n"
     ]
    }
   ],
   "source": [
    "username = 'elastic'\n",
    "password = '1234'\n",
    "host = 'http://localhost:9200'  # e.g., 'localhost' or 'https://your-elasticsearch-domain.com'\n",
    "\n",
    "# Create an Elasticsearch client instance\n",
    "es = Elasticsearch(\n",
    "    hosts=host,\n",
    "    basic_auth=(username, password),\n",
    "    verify_certs = False\n",
    ")\n",
    "\n",
    "# Check if the connection was successful\n",
    "if es.ping():\n",
    "    print('#'*30)\n",
    "    print(\"Connected to Elasticsearch\")\n",
    "    print('#'*30)\n",
    "else:\n",
    "    print(\"Connection failed\")\n",
    "\n",
    "# es.info()"
   ]
  },
  {
   "cell_type": "code",
   "execution_count": 291,
   "metadata": {},
   "outputs": [
    {
     "data": {
      "text/plain": [
       "ObjectApiResponse({'face_recognition': {'aliases': {}}, 'my_index1': {'aliases': {}}, 'saleem_testing1': {'aliases': {}}})"
      ]
     },
     "execution_count": 291,
     "metadata": {},
     "output_type": "execute_result"
    }
   ],
   "source": [
    "es.indices.get_alias(index='*')"
   ]
  },
  {
   "cell_type": "code",
   "execution_count": 330,
   "metadata": {},
   "outputs": [
    {
     "data": {
      "text/plain": [
       "[{'name': 'xyz ',\n",
       "  'birth_encorporation_date': '1950 ',\n",
       "  'data': {'summary': {'name': 'wxyz ',\n",
       "    'place_of_birth': 'khanpur ',\n",
       "    'dob': '1996-01-01 ',\n",
       "    'age': '27 ',\n",
       "    'range': ['20 ', '27 '],\n",
       "    'salary': ['10000 ', '200000 ']}}},\n",
       " {'name': 'xyz ',\n",
       "  'birth_encorporation_date': '[] ',\n",
       "  'data': {'summary': {'name': 'abcd ',\n",
       "    'nationality': 'pakistan ',\n",
       "    'range': '[20-27] ',\n",
       "    'birth_year': '1996 '}}},\n",
       " {'name': 'uvs ',\n",
       "  'birth_encorporation_date': '[] ',\n",
       "  'data': {'summary': {'name': 'uvs ',\n",
       "    'nationality': 'pakistan ',\n",
       "    'date_of_birth': '1996-01-15 ',\n",
       "    'siblings': {'brother': {'name': 'abc '}}}}}]"
      ]
     },
     "metadata": {},
     "output_type": "display_data"
    }
   ],
   "source": [
    "def convert_to_string(item):\n",
    "    if isinstance(item, dict):\n",
    "        for key, value in item.items():\n",
    "            item[key] = convert_to_string(value)\n",
    "    elif isinstance(item, list):\n",
    "        for i in range(len(item)):\n",
    "            item[i] = convert_to_string(item[i])\n",
    "    else:\n",
    "        try:\n",
    "            # Attempt to convert to string\n",
    "            item = str(item)+' '\n",
    "        except:\n",
    "            # Handle any exceptions during conversion\n",
    "            item = None  # Or you can choose a different default value\n",
    "\n",
    "    return item\n",
    "\n",
    "def correct_values(item):\n",
    "    if isinstance(item, dict):\n",
    "        for key, value in item.items():\n",
    "            if key == 'birth_encorporation_date':\n",
    "                if value == '[]':\n",
    "                    item[key] = None  # Or remove the key-value pair if needed\n",
    "            item[key] = correct_values(value)\n",
    "    elif isinstance(item, list):\n",
    "        for i in range(len(item)):\n",
    "            item[i] = correct_values(item[i])\n",
    "\n",
    "    return item\n",
    "\n",
    "documents = [\n",
    "    {\n",
    "        'name': 'xyz',\n",
    "        'birth_encorporation_date': '1950',\n",
    "        'data': {\n",
    "            'summary': {\n",
    "                'name': 'wxyz',\n",
    "                'place_of_birth': 'khanpur',\n",
    "                'dob': '1996-01-01',\n",
    "                'age': 27,\n",
    "                'range': [20, 27],\n",
    "                'salary': [10000, 200000],\n",
    "            }\n",
    "        }\n",
    "    },\n",
    "    {\n",
    "        'name': 'xyz',\n",
    "        'birth_encorporation_date': '[]',\n",
    "        'data': {\n",
    "            'summary': {\n",
    "                'name': 'abcd',\n",
    "                'nationality': 'pakistan',\n",
    "                'range': '[20-27]',\n",
    "                'birth_year': 1996,\n",
    "            }\n",
    "        }\n",
    "    },\n",
    "    {\n",
    "        'name': 'uvs',\n",
    "        'birth_encorporation_date': '[]',\n",
    "        'data': {\n",
    "            'summary': {\n",
    "                'name': 'uvs',\n",
    "                'nationality': 'pakistan',\n",
    "                'date_of_birth': '1996-01-15',\n",
    "                'siblings': {'brother': {'name': 'abc'}},\n",
    "            }\n",
    "        }\n",
    "    }\n",
    "]\n",
    "\n",
    "# Correct and clean the values\n",
    "for idx, doc in enumerate(documents):\n",
    "    documents[idx] = correct_values(doc)\n",
    "\n",
    "# Convert non-dict and non-list values to string\n",
    "for idx, doc in enumerate(documents):\n",
    "    documents[idx] = convert_to_string(doc)\n",
    "\n",
    "display(documents)\n"
   ]
  },
  {
   "cell_type": "code",
   "execution_count": 331,
   "metadata": {},
   "outputs": [
    {
     "name": "stderr",
     "output_type": "stream",
     "text": [
      "C:\\Users\\Desktop\\AppData\\Local\\Temp\\ipykernel_5016\\2927495099.py:28: DeprecationWarning: The 'body' parameter is deprecated and will be removed in a future version. Instead use individual parameters.\n",
      "  es.indices.create(index=index_name, body={'settings': settings, 'mappings': mapping})\n",
      "C:\\Users\\Desktop\\AppData\\Local\\Temp\\ipykernel_5016\\2927495099.py:32: DeprecationWarning: The 'body' parameter is deprecated and will be removed in a future version. Instead use the 'document' parameter. See https://github.com/elastic/elasticsearch-py/issues/1698 for more information\n",
      "  es.index(index=index_name, body=doc)\n"
     ]
    }
   ],
   "source": [
    "\n",
    "# Index name\n",
    "index_name = 'my_index1'\n",
    "\n",
    "# Delete index if it exists\n",
    "try:\n",
    "    es.indices.delete(index=index_name)\n",
    "except:\n",
    "    print('Index does not exist or could not be deleted')\n",
    "\n",
    "# Mapping and settings\n",
    "mapping = {\n",
    "    'dynamic': True,  # Allow dynamic mapping for varying fields\n",
    "    'properties': {\n",
    "        'name': {'type': 'text'},\n",
    "        'birth_encorporation_date': {'type': 'text'},\n",
    "        'data': {\n",
    "           'type': 'object'\n",
    "            }\n",
    "        }\n",
    "}\n",
    "\n",
    "settings = {\n",
    "    'number_of_shards': 1,\n",
    "    'number_of_replicas': 0\n",
    "}\n",
    "\n",
    "# Create index with mapping and settings\n",
    "es.indices.create(index=index_name, body={'settings': settings, 'mappings': mapping})\n",
    "\n",
    "# Index documents\n",
    "for doc in documents:\n",
    "    es.index(index=index_name, body=doc)\n",
    "\n"
   ]
  },
  {
   "cell_type": "code",
   "execution_count": 335,
   "metadata": {},
   "outputs": [
    {
     "name": "stdout",
     "output_type": "stream",
     "text": [
      "{'count': 3, '_shards': {'total': 1, 'successful': 1, 'skipped': 0, 'failed': 0}}\n"
     ]
    },
    {
     "name": "stderr",
     "output_type": "stream",
     "text": [
      "C:\\Users\\Desktop\\AppData\\Local\\Temp\\ipykernel_5016\\3814896417.py:6: DeprecationWarning: The 'body' parameter is deprecated and will be removed in a future version. Instead use individual parameters.\n",
      "  result = es.search(index=index_name, body=q)\n",
      "C:\\Users\\Desktop\\AppData\\Local\\Temp\\ipykernel_5016\\3814896417.py:7: DeprecationWarning: The 'body' parameter is deprecated and will be removed in a future version. Instead use individual parameters.\n",
      "  print(es.count(index=index_name, body=q))\n"
     ]
    },
    {
     "data": {
      "text/plain": [
       "{'_index': 'my_index1',\n",
       " '_id': 'iVXYMooBLCGmj3FMU664',\n",
       " '_score': 1.0,\n",
       " '_source': {'name': 'xyz ',\n",
       "  'birth_encorporation_date': '1950 ',\n",
       "  'data': {'summary': {'name': 'wxyz ',\n",
       "    'place_of_birth': 'khanpur ',\n",
       "    'dob': '1996-01-01 ',\n",
       "    'age': '27 ',\n",
       "    'range': ['20 ', '27 '],\n",
       "    'salary': ['10000 ', '200000 ']}}}}"
      ]
     },
     "metadata": {},
     "output_type": "display_data"
    },
    {
     "data": {
      "text/plain": [
       "{'_index': 'my_index1',\n",
       " '_id': 'ilXYMooBLCGmj3FMVq5S',\n",
       " '_score': 1.0,\n",
       " '_source': {'name': 'xyz ',\n",
       "  'birth_encorporation_date': '[] ',\n",
       "  'data': {'summary': {'name': 'abcd ',\n",
       "    'nationality': 'pakistan ',\n",
       "    'range': '[20-27] ',\n",
       "    'birth_year': '1996 '}}}}"
      ]
     },
     "metadata": {},
     "output_type": "display_data"
    },
    {
     "data": {
      "text/plain": [
       "{'_index': 'my_index1',\n",
       " '_id': 'i1XYMooBLCGmj3FMWa7d',\n",
       " '_score': 1.0,\n",
       " '_source': {'name': 'uvs ',\n",
       "  'birth_encorporation_date': '[] ',\n",
       "  'data': {'summary': {'name': 'uvs ',\n",
       "    'nationality': 'pakistan ',\n",
       "    'date_of_birth': '1996-01-15 ',\n",
       "    'siblings': {'brother': {'name': 'abc '}}}}}}"
      ]
     },
     "metadata": {},
     "output_type": "display_data"
    }
   ],
   "source": [
    "q={\n",
    "    \"query\": {\n",
    "        \"match_all\": {}\n",
    "    },\n",
    "}\n",
    "result = es.search(index=index_name, body=q)\n",
    "print(es.count(index=index_name, body=q))\n",
    "for i in result['hits']['hits']:\n",
    "    display(i)\n",
    "    "
   ]
  },
  {
   "cell_type": "code",
   "execution_count": 336,
   "metadata": {},
   "outputs": [
    {
     "name": "stderr",
     "output_type": "stream",
     "text": [
      "C:\\Users\\Desktop\\AppData\\Local\\Temp\\ipykernel_5016\\2490340115.py:11: DeprecationWarning: The 'body' parameter is deprecated and will be removed in a future version. Instead use individual parameters.\n",
      "  result = es.search(index=index_name, body=query)\n"
     ]
    },
    {
     "data": {
      "text/plain": [
       "{'_index': 'my_index1',\n",
       " '_id': 'iVXYMooBLCGmj3FMU664',\n",
       " '_score': 1.0,\n",
       " '_source': {'name': 'xyz ',\n",
       "  'birth_encorporation_date': '1950 ',\n",
       "  'data': {'summary': {'name': 'wxyz ',\n",
       "    'place_of_birth': 'khanpur ',\n",
       "    'dob': '1996-01-01 ',\n",
       "    'age': '27 ',\n",
       "    'range': ['20 ', '27 '],\n",
       "    'salary': ['10000 ', '200000 ']}}}}"
      ]
     },
     "metadata": {},
     "output_type": "display_data"
    }
   ],
   "source": [
    "# Sample search query for nested field\n",
    "def search_nested_records(key='', value=''):\n",
    "    query = {\n",
    "        'query': {\n",
    "            \n",
    "                'wildcard': {\n",
    "                    key: f\"*{value}*\"\n",
    "                }\n",
    "                }\n",
    "    }\n",
    "    result = es.search(index=index_name, body=query)\n",
    "    return result\n",
    "\n",
    "# Example search for nested field\n",
    "search_result = search_nested_records(key='data.summary.dob.keyword', value='1996')\n",
    "for i in search_result['hits']['hits']:\n",
    "    display(i)\n",
    "    "
   ]
  },
  {
   "cell_type": "code",
   "execution_count": 364,
   "metadata": {},
   "outputs": [
    {
     "name": "stderr",
     "output_type": "stream",
     "text": [
      "C:\\Users\\Desktop\\AppData\\Local\\Temp\\ipykernel_5016\\185616780.py:29: DeprecationWarning: The 'body' parameter is deprecated and will be removed in a future version. Instead use individual parameters.\n",
      "  result = es.search(index=index_name, body=query)\n"
     ]
    },
    {
     "data": {
      "text/plain": [
       "{'_index': 'my_index1',\n",
       " '_id': 'iVXYMooBLCGmj3FMU664',\n",
       " '_score': 1.4700036,\n",
       " '_source': {'name': 'xyz ',\n",
       "  'birth_encorporation_date': '1950 ',\n",
       "  'data': {'summary': {'name': 'wxyz ',\n",
       "    'place_of_birth': 'khanpur ',\n",
       "    'dob': '1996-01-01 ',\n",
       "    'age': '27 ',\n",
       "    'range': ['20 ', '27 '],\n",
       "    'salary': ['10000 ', '200000 ']}}}}"
      ]
     },
     "metadata": {},
     "output_type": "display_data"
    },
    {
     "data": {
      "text/plain": [
       "{'_index': 'my_index1',\n",
       " '_id': 'ilXYMooBLCGmj3FMVq5S',\n",
       " '_score': 1.4700036,\n",
       " '_source': {'name': 'xyz ',\n",
       "  'birth_encorporation_date': '[] ',\n",
       "  'data': {'summary': {'name': 'abcd ',\n",
       "    'nationality': 'pakistan ',\n",
       "    'range': '[20-27] ',\n",
       "    'birth_year': '1996 '}}}}"
      ]
     },
     "metadata": {},
     "output_type": "display_data"
    }
   ],
   "source": [
    "def search_nested_records(name='', birth_encorporation_date=''):\n",
    "    query = {\n",
    "        \"query\": {\n",
    "            \"bool\": {\n",
    "                \"must\": [],\n",
    "                \"should\": []\n",
    "            }\n",
    "        }\n",
    "    }\n",
    "\n",
    "    if name:\n",
    "        query[\"query\"][\"bool\"][\"must\"].append({\"match\": {\"name\": name}})\n",
    "\n",
    "    if birth_encorporation_date:\n",
    "        query[\"query\"][\"bool\"][\"should\"].append(\n",
    "            {\n",
    "              'wildcard': {\n",
    "                    'data.summary.birth_year': f\"*{birth_encorporation_date}*\"\n",
    "                }  \n",
    "            }\n",
    "            )\n",
    "        query[\"query\"][\"bool\"][\"should\"].append(\n",
    "            {\n",
    "              'wildcard': {\n",
    "                    'data.summary.dob.keyword': f\"*{birth_encorporation_date}*\"\n",
    "                }  \n",
    "            }\n",
    "            )\n",
    "    result = es.search(index=index_name, body=query)\n",
    "    return result\n",
    "\n",
    "\n",
    "# Example search for nested field\n",
    "search_result = search_nested_records(name='xyz', birth_encorporation_date='1996')\n",
    "for i in search_result['hits']['hits']:\n",
    "    display(i)\n",
    "    "
   ]
  },
  {
   "cell_type": "code",
   "execution_count": null,
   "metadata": {},
   "outputs": [],
   "source": []
  },
  {
   "cell_type": "code",
   "execution_count": null,
   "metadata": {},
   "outputs": [],
   "source": []
  },
  {
   "cell_type": "code",
   "execution_count": null,
   "metadata": {},
   "outputs": [],
   "source": []
  }
 ],
 "metadata": {
  "kernelspec": {
   "display_name": "es_env",
   "language": "python",
   "name": "python3"
  },
  "language_info": {
   "codemirror_mode": {
    "name": "ipython",
    "version": 3
   },
   "file_extension": ".py",
   "mimetype": "text/x-python",
   "name": "python",
   "nbconvert_exporter": "python",
   "pygments_lexer": "ipython3",
   "version": "3.10.9"
  },
  "orig_nbformat": 4
 },
 "nbformat": 4,
 "nbformat_minor": 2
}
